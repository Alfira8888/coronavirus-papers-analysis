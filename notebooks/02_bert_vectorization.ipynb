{
 "cells": [
  {
   "cell_type": "markdown",
   "metadata": {
    "slideshow": {
     "slide_type": "slide"
    }
   },
   "source": [
    "# 02. BERT vectorization\n",
    "\n",
    "[BERT](https://github.com/google-research/bert) is an NLP language representation method introduced by Google. It is a model which creates a contextual vector representation for given text. As a result, unilike word2vec or GloVe, it doesn't have a single word vector, but different ones, depending on its neighbouring words (context). By these means, the algorithm is able to encode some more complex concepts.\n",
    "\n",
    "It is tested in an unsupervised manner, using publicly available texts and it's deeply bidirectional. Currently, BERT is state-of-the-art algorithm for many different NLP tasks. A great explanation of the internals, may be found here: http://jalammar.github.io/illustrated-bert/."
   ]
  },
  {
   "cell_type": "markdown",
   "metadata": {
    "slideshow": {
     "slide_type": "subslide"
    }
   },
   "source": [
    "## BERT in comparison to previous word embeddings\n",
    "\n",
    "BERT brought a new view on language representation, however different word embeddings have been on the market for a quite long time. Let's make a quick recap for those of you, who are not so familiar with the historical approaches to text encoding. "
   ]
  },
  {
   "cell_type": "markdown",
   "metadata": {
    "slideshow": {
     "slide_type": "subslide"
    }
   },
   "source": [
    "### Words ambiguation\n",
    "\n",
    "![Just a second decided on a second place](images/text-vectorization-example.png)"
   ]
  },
  {
   "cell_type": "markdown",
   "metadata": {
    "slideshow": {
     "slide_type": "subslide"
    }
   },
   "source": [
    "### Bag of words\n",
    "\n",
    "![Bag of words](images/example-bag-of-words.png)"
   ]
  },
  {
   "cell_type": "markdown",
   "metadata": {
    "slideshow": {
     "slide_type": "subslide"
    }
   },
   "source": [
    "### TFIDF\n",
    "\n",
    "![TFIDF](images/example-tfidf.png)"
   ]
  },
  {
   "cell_type": "markdown",
   "metadata": {
    "slideshow": {
     "slide_type": "subslide"
    }
   },
   "source": [
    "### Word2Vec\n",
    "\n",
    "![Word2Vec](images/example-word2vec.png)"
   ]
  },
  {
   "cell_type": "markdown",
   "metadata": {
    "slideshow": {
     "slide_type": "subslide"
    }
   },
   "source": [
    "### BERT\n",
    "\n",
    "![BERT](images/example-bert.png)"
   ]
  },
  {
   "cell_type": "markdown",
   "metadata": {
    "slideshow": {
     "slide_type": "slide"
    }
   },
   "source": [
    "## Loading the datasets created in the previous notebook\n",
    "\n",
    "We've already created the datasets for the target application, so we can use them out of the box. Let's load everything."
   ]
  },
  {
   "cell_type": "code",
   "execution_count": 1,
   "metadata": {
    "slideshow": {
     "slide_type": "fragment"
    }
   },
   "outputs": [],
   "source": [
    "from bert_serving.client import BertClient\n",
    "from IPython.display import display, HTML\n",
    "from scipy.spatial import distance"
   ]
  },
  {
   "cell_type": "code",
   "execution_count": 2,
   "metadata": {
    "slideshow": {
     "slide_type": "fragment"
    }
   },
   "outputs": [],
   "source": [
    "import pandas as pd\n",
    "import numpy as np\n",
    "import logging"
   ]
  },
  {
   "cell_type": "code",
   "execution_count": 3,
   "metadata": {
    "slideshow": {
     "slide_type": "fragment"
    }
   },
   "outputs": [],
   "source": [
    "logger = logging.getLogger(__name__)"
   ]
  },
  {
   "cell_type": "code",
   "execution_count": 4,
   "metadata": {
    "slideshow": {
     "slide_type": "fragment"
    }
   },
   "outputs": [],
   "source": [
    "covid_19_articles_df = pd.read_parquet(\"./data/covid_19_articles_df.parquet\")"
   ]
  },
  {
   "cell_type": "code",
   "execution_count": 5,
   "metadata": {
    "slideshow": {
     "slide_type": "fragment"
    }
   },
   "outputs": [
    {
     "data": {
      "text/plain": [
       "(560, 5)"
      ]
     },
     "execution_count": 5,
     "metadata": {},
     "output_type": "execute_result"
    }
   ],
   "source": [
    "covid_19_articles_df.shape"
   ]
  },
  {
   "cell_type": "code",
   "execution_count": 6,
   "metadata": {
    "slideshow": {
     "slide_type": "subslide"
    }
   },
   "outputs": [
    {
     "data": {
      "text/html": [
       "<div>\n",
       "<style scoped>\n",
       "    .dataframe tbody tr th:only-of-type {\n",
       "        vertical-align: middle;\n",
       "    }\n",
       "\n",
       "    .dataframe tbody tr th {\n",
       "        vertical-align: top;\n",
       "    }\n",
       "\n",
       "    .dataframe thead th {\n",
       "        text-align: right;\n",
       "    }\n",
       "</style>\n",
       "<table border=\"1\" class=\"dataframe\">\n",
       "  <thead>\n",
       "    <tr style=\"text-align: right;\">\n",
       "      <th></th>\n",
       "      <th>title</th>\n",
       "      <th>abstract</th>\n",
       "      <th>body_text</th>\n",
       "      <th>back_matter</th>\n",
       "      <th>license</th>\n",
       "    </tr>\n",
       "    <tr>\n",
       "      <th>paper_id</th>\n",
       "      <th></th>\n",
       "      <th></th>\n",
       "      <th></th>\n",
       "      <th></th>\n",
       "      <th></th>\n",
       "    </tr>\n",
       "  </thead>\n",
       "  <tbody>\n",
       "    <tr>\n",
       "      <th>c8df44a3612e85e267351e936ddeb8fc5867afa1</th>\n",
       "      <td>The timing of one-shot interventions for epide...</td>\n",
       "      <td>The apparent early success in China's large-sc...</td>\n",
       "      <td>The Influenza pandemic of 1918 was one of the ...</td>\n",
       "      <td></td>\n",
       "      <td>biorxiv_medrxiv</td>\n",
       "    </tr>\n",
       "    <tr>\n",
       "      <th>ebed882da10cbf669cbb86802e9fa07a4a33ef91</th>\n",
       "      <td>Exuberant elevation of IP-10, MCP-3 and IL-1ra...</td>\n",
       "      <td></td>\n",
       "      <td>and Murray scores ( Figure S2 ). Our previous...</td>\n",
       "      <td>All rights reserved. No reuse allowed without ...</td>\n",
       "      <td>biorxiv_medrxiv</td>\n",
       "    </tr>\n",
       "    <tr>\n",
       "      <th>8a1fde8c65e439496ac5810504de23ef77312f28</th>\n",
       "      <td>Protein structure and sequence re-analysis of ...</td>\n",
       "      <td>As the infection of 2019-nCoV coronavirus is q...</td>\n",
       "      <td>The 2019 novel conronavirus, or 2019-nCoV, rec...</td>\n",
       "      <td>This work is supported in part by the National...</td>\n",
       "      <td>biorxiv_medrxiv</td>\n",
       "    </tr>\n",
       "  </tbody>\n",
       "</table>\n",
       "</div>"
      ],
      "text/plain": [
       "                                                                                      title  \\\n",
       "paper_id                                                                                      \n",
       "c8df44a3612e85e267351e936ddeb8fc5867afa1  The timing of one-shot interventions for epide...   \n",
       "ebed882da10cbf669cbb86802e9fa07a4a33ef91  Exuberant elevation of IP-10, MCP-3 and IL-1ra...   \n",
       "8a1fde8c65e439496ac5810504de23ef77312f28  Protein structure and sequence re-analysis of ...   \n",
       "\n",
       "                                                                                   abstract  \\\n",
       "paper_id                                                                                      \n",
       "c8df44a3612e85e267351e936ddeb8fc5867afa1  The apparent early success in China's large-sc...   \n",
       "ebed882da10cbf669cbb86802e9fa07a4a33ef91                                                      \n",
       "8a1fde8c65e439496ac5810504de23ef77312f28  As the infection of 2019-nCoV coronavirus is q...   \n",
       "\n",
       "                                                                                  body_text  \\\n",
       "paper_id                                                                                      \n",
       "c8df44a3612e85e267351e936ddeb8fc5867afa1  The Influenza pandemic of 1918 was one of the ...   \n",
       "ebed882da10cbf669cbb86802e9fa07a4a33ef91   and Murray scores ( Figure S2 ). Our previous...   \n",
       "8a1fde8c65e439496ac5810504de23ef77312f28  The 2019 novel conronavirus, or 2019-nCoV, rec...   \n",
       "\n",
       "                                                                                back_matter  \\\n",
       "paper_id                                                                                      \n",
       "c8df44a3612e85e267351e936ddeb8fc5867afa1                                                      \n",
       "ebed882da10cbf669cbb86802e9fa07a4a33ef91  All rights reserved. No reuse allowed without ...   \n",
       "8a1fde8c65e439496ac5810504de23ef77312f28  This work is supported in part by the National...   \n",
       "\n",
       "                                                  license  \n",
       "paper_id                                                   \n",
       "c8df44a3612e85e267351e936ddeb8fc5867afa1  biorxiv_medrxiv  \n",
       "ebed882da10cbf669cbb86802e9fa07a4a33ef91  biorxiv_medrxiv  \n",
       "8a1fde8c65e439496ac5810504de23ef77312f28  biorxiv_medrxiv  "
      ]
     },
     "execution_count": 6,
     "metadata": {},
     "output_type": "execute_result"
    }
   ],
   "source": [
    "covid_19_articles_df.sample(n=3)"
   ]
  },
  {
   "cell_type": "code",
   "execution_count": 7,
   "metadata": {
    "slideshow": {
     "slide_type": "subslide"
    }
   },
   "outputs": [],
   "source": [
    "paragraphs_df = pd.read_parquet(\"./data/paragraphs_df.parquet\")"
   ]
  },
  {
   "cell_type": "code",
   "execution_count": 8,
   "metadata": {
    "slideshow": {
     "slide_type": "fragment"
    }
   },
   "outputs": [],
   "source": [
    "paragraphs_df = paragraphs_df[\n",
    "    paragraphs_df.index.get_level_values(\"paper_id\").isin(covid_19_articles_df.index)\n",
    "]"
   ]
  },
  {
   "cell_type": "code",
   "execution_count": 9,
   "metadata": {
    "slideshow": {
     "slide_type": "fragment"
    }
   },
   "outputs": [
    {
     "data": {
      "text/plain": [
       "(14847, 2)"
      ]
     },
     "execution_count": 9,
     "metadata": {},
     "output_type": "execute_result"
    }
   ],
   "source": [
    "paragraphs_df.shape"
   ]
  },
  {
   "cell_type": "code",
   "execution_count": 10,
   "metadata": {
    "slideshow": {
     "slide_type": "fragment"
    }
   },
   "outputs": [
    {
     "data": {
      "text/html": [
       "<div>\n",
       "<style scoped>\n",
       "    .dataframe tbody tr th:only-of-type {\n",
       "        vertical-align: middle;\n",
       "    }\n",
       "\n",
       "    .dataframe tbody tr th {\n",
       "        vertical-align: top;\n",
       "    }\n",
       "\n",
       "    .dataframe thead th {\n",
       "        text-align: right;\n",
       "    }\n",
       "</style>\n",
       "<table border=\"1\" class=\"dataframe\">\n",
       "  <thead>\n",
       "    <tr style=\"text-align: right;\">\n",
       "      <th></th>\n",
       "      <th></th>\n",
       "      <th>paragraph_text</th>\n",
       "      <th>paper_license</th>\n",
       "    </tr>\n",
       "    <tr>\n",
       "      <th>paper_id</th>\n",
       "      <th>paragraph_number</th>\n",
       "      <th></th>\n",
       "      <th></th>\n",
       "    </tr>\n",
       "  </thead>\n",
       "  <tbody>\n",
       "    <tr>\n",
       "      <th>ead6fda7cdb2bb2469ff48365833bd63d0b7dd1a</th>\n",
       "      <th>4</th>\n",
       "      <td>By inferring the effectiveness of intervention...</td>\n",
       "      <td>comm_use_subset</td>\n",
       "    </tr>\n",
       "    <tr>\n",
       "      <th>dbefc8ad2a3de5d1696b7e604de8bce1da2ea8cd</th>\n",
       "      <th>1</th>\n",
       "      <td>With the current severe outbreak of coronaviru...</td>\n",
       "      <td>biorxiv_medrxiv</td>\n",
       "    </tr>\n",
       "    <tr>\n",
       "      <th>2858f25f5364b0ef37ceeaa370471ee6b3fac29d</th>\n",
       "      <th>13</th>\n",
       "      <td>March 5, 2020 4/28 . CC-BY-NC-ND 4.0 Internati...</td>\n",
       "      <td>biorxiv_medrxiv</td>\n",
       "    </tr>\n",
       "  </tbody>\n",
       "</table>\n",
       "</div>"
      ],
      "text/plain": [
       "                                                                                              paragraph_text  \\\n",
       "paper_id                                 paragraph_number                                                      \n",
       "ead6fda7cdb2bb2469ff48365833bd63d0b7dd1a 4                 By inferring the effectiveness of intervention...   \n",
       "dbefc8ad2a3de5d1696b7e604de8bce1da2ea8cd 1                 With the current severe outbreak of coronaviru...   \n",
       "2858f25f5364b0ef37ceeaa370471ee6b3fac29d 13                March 5, 2020 4/28 . CC-BY-NC-ND 4.0 Internati...   \n",
       "\n",
       "                                                             paper_license  \n",
       "paper_id                                 paragraph_number                   \n",
       "ead6fda7cdb2bb2469ff48365833bd63d0b7dd1a 4                 comm_use_subset  \n",
       "dbefc8ad2a3de5d1696b7e604de8bce1da2ea8cd 1                 biorxiv_medrxiv  \n",
       "2858f25f5364b0ef37ceeaa370471ee6b3fac29d 13                biorxiv_medrxiv  "
      ]
     },
     "execution_count": 10,
     "metadata": {},
     "output_type": "execute_result"
    }
   ],
   "source": [
    "paragraphs_df.sample(n=3)"
   ]
  },
  {
   "cell_type": "markdown",
   "metadata": {
    "slideshow": {
     "slide_type": "slide"
    }
   },
   "source": [
    "## Text vectorization with BERT\n",
    "\n",
    "Creating an embedding vector for a given text with BERT is extremely easy. We take a text, tokenize it and put as an input to the network and then take a value of one of the hidden layers. To make things even simpler, there is a [bert-as-service](https://github.com/hanxiao/bert-as-service) project that exposes the BERT functionality over TCP (internally ZeroMQ is being used). Now, the vectorization is possible within just 2 lines of code."
   ]
  },
  {
   "cell_type": "code",
   "execution_count": 11,
   "metadata": {
    "slideshow": {
     "slide_type": "subslide"
    }
   },
   "outputs": [],
   "source": [
    "bc = BertClient(ip=\"bert_server\", port=5555, port_out=5556)"
   ]
  },
  {
   "cell_type": "code",
   "execution_count": 12,
   "metadata": {
    "slideshow": {
     "slide_type": "fragment"
    }
   },
   "outputs": [],
   "source": [
    "try:\n",
    "    paragraphs_df = pd.read_parquet(\"./data/paragraphs_df-bert.parquet\")\n",
    "except OSError as e:\n",
    "    logger.warning(\"Could not find vectorized paragraphs file: %s\", e)"
   ]
  },
  {
   "cell_type": "code",
   "execution_count": 13,
   "metadata": {
    "slideshow": {
     "slide_type": "fragment"
    }
   },
   "outputs": [],
   "source": [
    "if \"bert_vector\" not in paragraphs_df:\n",
    "    paragraphs_df[\"bert_vector\"] = paragraphs_df[\"paragraph_text\"] \\\n",
    "        .map(lambda text: np.array(bc.encode([text]).flat))"
   ]
  },
  {
   "cell_type": "code",
   "execution_count": 14,
   "metadata": {
    "slideshow": {
     "slide_type": "fragment"
    }
   },
   "outputs": [],
   "source": [
    "paragraphs_df.to_parquet(\"./data/paragraphs_df-bert.parquet\")"
   ]
  },
  {
   "cell_type": "markdown",
   "metadata": {
    "slideshow": {
     "slide_type": "slide"
    }
   },
   "source": [
    "## BERT-based question answering system\n",
    "\n",
    "Perfectly, we should be able to ask a question and the system should automatically find the answer. Let's try it out."
   ]
  },
  {
   "cell_type": "code",
   "execution_count": 15,
   "metadata": {
    "slideshow": {
     "slide_type": "subslide"
    }
   },
   "outputs": [],
   "source": [
    "question = \"Where does the first patient diagnosed with COVID-19 come from?\""
   ]
  },
  {
   "cell_type": "code",
   "execution_count": 16,
   "metadata": {
    "slideshow": {
     "slide_type": "fragment"
    }
   },
   "outputs": [],
   "source": [
    "vectorized_question = np.array(bc.encode([question]).flat)"
   ]
  },
  {
   "cell_type": "code",
   "execution_count": 17,
   "metadata": {
    "slideshow": {
     "slide_type": "fragment"
    }
   },
   "outputs": [
    {
     "data": {
      "text/plain": [
       "(1024,)"
      ]
     },
     "execution_count": 17,
     "metadata": {},
     "output_type": "execute_result"
    }
   ],
   "source": [
    "vectorized_question.shape"
   ]
  },
  {
   "cell_type": "code",
   "execution_count": 18,
   "metadata": {
    "slideshow": {
     "slide_type": "fragment"
    }
   },
   "outputs": [],
   "source": [
    "vector_distance = paragraphs_df[\"bert_vector\"] \\\n",
    "    .map(lambda v: distance.cosine(vectorized_question, v))\n",
    "idx = vector_distance.nsmallest(n=5).index\n",
    "closest_paragraphs_df = paragraphs_df.loc[idx]"
   ]
  },
  {
   "cell_type": "code",
   "execution_count": 19,
   "metadata": {
    "slideshow": {
     "slide_type": "subslide"
    }
   },
   "outputs": [
    {
     "data": {
      "text/html": [
       "<h4>1. Kidney impairment is associated with in-hospital death of COVID- 19 patients</h4><p>The copyright holder for this preprint (which was not peer-reviewed) is This is the first study indicated the association of kidney impairment and inhospital death in patients with COVID-19. It is reported that AKI is associated with an increased risk of death in patients with SARS 5 , which is in consistence with our study.</p>"
      ],
      "text/plain": [
       "<IPython.core.display.HTML object>"
      ]
     },
     "metadata": {},
     "output_type": "display_data"
    },
    {
     "data": {
      "text/html": [
       "<h4>2. Systematic Comparison of Two Animal-to-Human Transmitted Human Coronaviruses: SARS-CoV-2 and SARS-CoV</h4><p>What is the percentage of COVID-19 patients have been infected with SARS and produced antibodies?</p>"
      ],
      "text/plain": [
       "<IPython.core.display.HTML object>"
      ]
     },
     "metadata": {},
     "output_type": "display_data"
    },
    {
     "data": {
      "text/html": [
       "<h4>3. Title: Serial interval of novel coronavirus (COVID-19) infections Correspondence to</h4><p>China in late 2019 has rapidly grown and cases have been reported worldwide . 13 An empirical estimate of the serial interval-the time from illness onset in a 14 primary case (infector) to illness onset in a secondary case (infectee)-is needed 15 to understand the turnover of case generations and transmissibility of the disease 16 [1] . Estimates of the serial interval can only be obtained by linking dates of onset 17 for infector-infectee pairs, and these links are not easily established. A recently 18 published epidemiological study used contact tracing data from cases reported in 19</p>"
      ],
      "text/plain": [
       "<IPython.core.display.HTML object>"
      ]
     },
     "metadata": {},
     "output_type": "display_data"
    },
    {
     "data": {
      "text/html": [
       "<h4>4. </h4><p>In conclusion, all people are susceptible to COVID-19, and older males and those with comorbid conditions are more likely to become severe cases. Even though COVID-19 is highly contagious, control measures have proven to be very effective.</p>"
      ],
      "text/plain": [
       "<IPython.core.display.HTML object>"
      ]
     },
     "metadata": {},
     "output_type": "display_data"
    },
    {
     "data": {
      "text/html": [
       "<h4>5. Gender differences in patients with COVID-19: Focus on severity and mortality</h4><p>This is the first preliminary study investigating the gender role in morbidity and mortality of SARS-CoV-2 infection. It is suggested that COVID-19 is more likely to affect older males with comorbidities, and can result in severe and even fatal respiratory diseases such as ARDS 10 . Among the 425 patients with COVID-19, 56%</p>"
      ],
      "text/plain": [
       "<IPython.core.display.HTML object>"
      ]
     },
     "metadata": {},
     "output_type": "display_data"
    }
   ],
   "source": [
    "closest_paragraphs_iter = closest_paragraphs_df[\"paragraph_text\"].iteritems()\n",
    "for i, ((paper_id, paragraph_order), paragraph_text) in enumerate(closest_paragraphs_iter):\n",
    "    try:\n",
    "        paper = covid_19_articles_df.loc[paper_id]\n",
    "        paper_title = paper[\"title\"]\n",
    "        display(HTML(f\"<h4>{i + 1}. {paper_title}</h4><p>{paragraph_text}</p>\"))\n",
    "    except KeyError as e:\n",
    "        logger.warning(\"Could not find the key %s\", paper_id)"
   ]
  },
  {
   "cell_type": "markdown",
   "metadata": {
    "slideshow": {
     "slide_type": "slide"
    }
   },
   "source": [
    "### Question answering issue\n",
    "\n",
    "It seems the results are not as promising as we would expect. Let's think a while about why we didn't get the right answers. BERT is trained on natural languge by taking some publicly available texts, and tries to predict a word, given context. That means, if we put a question, then we should get similar questions, but not the answers. Instead, let's try to put an affirmative sentence which will imitate the answer we expect to get.\n",
    "\n",
    "For the easiness, we created a helper function that displays the most similar paragraphs."
   ]
  },
  {
   "cell_type": "code",
   "execution_count": 20,
   "metadata": {
    "slideshow": {
     "slide_type": "fragment"
    }
   },
   "outputs": [],
   "source": [
    "from helper import display_most_similar_paragraphs"
   ]
  },
  {
   "cell_type": "code",
   "execution_count": 21,
   "metadata": {
    "slideshow": {
     "slide_type": "subslide"
    }
   },
   "outputs": [],
   "source": [
    "sentence = \"The first patient diagnosed with COVID-19 comes from\""
   ]
  },
  {
   "cell_type": "code",
   "execution_count": 22,
   "metadata": {
    "slideshow": {
     "slide_type": "fragment"
    }
   },
   "outputs": [
    {
     "data": {
      "text/html": [
       "<h4>1. Gender differences in patients with COVID-19: Focus on severity and mortality</h4><p>This is the first preliminary study investigating the gender role in morbidity and mortality of SARS-CoV-2 infection. It is suggested that COVID-19 is more likely to affect older males with comorbidities, and can result in severe and even fatal respiratory diseases such as ARDS 10 . Among the 425 patients with COVID-19, 56%</p>"
      ],
      "text/plain": [
       "<IPython.core.display.HTML object>"
      ]
     },
     "metadata": {},
     "output_type": "display_data"
    },
    {
     "data": {
      "text/html": [
       "<h4>2. Article history: Early Epidemiological and Clinical Characteristics of 28 Cases of Coronavirus Disease in South Korea COVID-19 National Emergency Response Center, Epidemiology and Case Management Team, Korea Centers for Disease Control and Prevention*</h4><p>Regarding the course of disease development in the 28 patients with confirmed COVID-19 as of February 14 th , 6</p>"
      ],
      "text/plain": [
       "<IPython.core.display.HTML object>"
      ]
     },
     "metadata": {},
     "output_type": "display_data"
    },
    {
     "data": {
      "text/html": [
       "<h4>3. Kidney impairment is associated with in-hospital death of COVID- 19 patients</h4><p>The copyright holder for this preprint (which was not peer-reviewed) is This is the first study indicated the association of kidney impairment and inhospital death in patients with COVID-19. It is reported that AKI is associated with an increased risk of death in patients with SARS 5 , which is in consistence with our study.</p>"
      ],
      "text/plain": [
       "<IPython.core.display.HTML object>"
      ]
     },
     "metadata": {},
     "output_type": "display_data"
    },
    {
     "data": {
      "text/html": [
       "<h4>4. performed data analysis</h4><p>The National Health Commission has issued 11,791 patients with laboratory-confirmed COVID-19</p>"
      ],
      "text/plain": [
       "<IPython.core.display.HTML object>"
      ]
     },
     "metadata": {},
     "output_type": "display_data"
    },
    {
     "data": {
      "text/html": [
       "<h4>5. Caution: The clinical characteristics of COVID-19 patients at admission are changing</h4><p>We report here the admission characteristics of 89 patients with confirmed COVID-19.</p>"
      ],
      "text/plain": [
       "<IPython.core.display.HTML object>"
      ]
     },
     "metadata": {},
     "output_type": "display_data"
    }
   ],
   "source": [
    "display_most_similar_paragraphs(sentence, paragraphs_df, covid_19_articles_df, bc)"
   ]
  },
  {
   "cell_type": "code",
   "execution_count": null,
   "metadata": {},
   "outputs": [],
   "source": []
  }
 ],
 "metadata": {
  "kernelspec": {
   "display_name": "Python 3",
   "language": "python",
   "name": "python3"
  },
  "language_info": {
   "codemirror_mode": {
    "name": "ipython",
    "version": 3
   },
   "file_extension": ".py",
   "mimetype": "text/x-python",
   "name": "python",
   "nbconvert_exporter": "python",
   "pygments_lexer": "ipython3",
   "version": "3.7.6"
  }
 },
 "nbformat": 4,
 "nbformat_minor": 4
}
