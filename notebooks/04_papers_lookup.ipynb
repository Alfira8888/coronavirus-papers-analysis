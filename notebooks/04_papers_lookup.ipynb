{
 "cells": [
  {
   "cell_type": "markdown",
   "metadata": {
    "slideshow": {
     "slide_type": "slide"
    }
   },
   "source": [
    "# 04. Papers lookup\n",
    "\n",
    "In the previous notebooks, we considered just a single example to see how each model handles the question answering. This notebook gives an interactive demo. First of all, let's import all the necessary data."
   ]
  },
  {
   "cell_type": "code",
   "execution_count": 1,
   "metadata": {
    "slideshow": {
     "slide_type": "fragment"
    }
   },
   "outputs": [],
   "source": [
    "from helper import display_most_similar_paragraphs\n",
    "from bert_serving.client import BertClient"
   ]
  },
  {
   "cell_type": "code",
   "execution_count": 2,
   "metadata": {
    "slideshow": {
     "slide_type": "fragment"
    }
   },
   "outputs": [],
   "source": [
    "import pandas as pd"
   ]
  },
  {
   "cell_type": "code",
   "execution_count": 3,
   "metadata": {
    "slideshow": {
     "slide_type": "fragment"
    }
   },
   "outputs": [],
   "source": [
    "covid_19_articles_df = pd.read_parquet(\"./data/covid_19_articles_df.parquet\")"
   ]
  },
  {
   "cell_type": "code",
   "execution_count": 4,
   "metadata": {
    "slideshow": {
     "slide_type": "fragment"
    }
   },
   "outputs": [],
   "source": [
    "bert_paragraphs_df = pd.read_parquet(\"./data/paragraphs_df-bert.parquet\")"
   ]
  },
  {
   "cell_type": "code",
   "execution_count": 5,
   "metadata": {
    "slideshow": {
     "slide_type": "fragment"
    }
   },
   "outputs": [],
   "source": [
    "scibert_paragraphs_df = pd.read_parquet(\"./data/paragraphs_df-scibert-last-layer.parquet\")"
   ]
  },
  {
   "cell_type": "code",
   "execution_count": 6,
   "metadata": {
    "slideshow": {
     "slide_type": "fragment"
    }
   },
   "outputs": [],
   "source": [
    "bert_client = BertClient(ip=\"bert_server\", port=5555, port_out=5556)"
   ]
  },
  {
   "cell_type": "code",
   "execution_count": 7,
   "metadata": {
    "slideshow": {
     "slide_type": "fragment"
    }
   },
   "outputs": [],
   "source": [
    "scibert_client = BertClient(ip=\"scibert_server\", port=5555, port_out=5556)"
   ]
  },
  {
   "cell_type": "markdown",
   "metadata": {
    "slideshow": {
     "slide_type": "slide"
    }
   },
   "source": [
    "## Interactive sentence similarity"
   ]
  },
  {
   "cell_type": "code",
   "execution_count": 8,
   "metadata": {
    "slideshow": {
     "slide_type": "fragment"
    }
   },
   "outputs": [],
   "source": [
    "import ipywidgets as widgets"
   ]
  },
  {
   "cell_type": "code",
   "execution_count": 9,
   "metadata": {
    "slideshow": {
     "slide_type": "fragment"
    }
   },
   "outputs": [],
   "source": [
    "method_dropdown = widgets.Dropdown(\n",
    "    options=[\"BERT\", \"SciBERT\"],\n",
    "    value=\"SciBERT\",\n",
    ")"
   ]
  },
  {
   "cell_type": "code",
   "execution_count": 10,
   "metadata": {
    "slideshow": {
     "slide_type": "fragment"
    }
   },
   "outputs": [],
   "source": [
    "n_papers_slider = widgets.IntSlider(\n",
    "    value=5,\n",
    "    min=1,\n",
    "    max=25,\n",
    "    step=1,\n",
    "    continuous_update=False,\n",
    "    orientation=\"horizontal\",\n",
    "    readout=True,\n",
    "    readout_format=\"d\",\n",
    ")"
   ]
  },
  {
   "cell_type": "code",
   "execution_count": 11,
   "metadata": {
    "slideshow": {
     "slide_type": "fragment"
    }
   },
   "outputs": [],
   "source": [
    "sentence_textarea = widgets.Textarea(\n",
    "    value=\"The risk factor of COVID-19 is\",\n",
    "    placeholder=\"Type the base sentence\",\n",
    ")"
   ]
  },
  {
   "cell_type": "code",
   "execution_count": 27,
   "metadata": {
    "slideshow": {
     "slide_type": "subslide"
    }
   },
   "outputs": [
    {
     "data": {
      "application/vnd.jupyter.widget-view+json": {
       "model_id": "0bad7b88bcd3485c8bba507711d1c99f",
       "version_major": 2,
       "version_minor": 0
      },
      "text/plain": [
       "VBox(children=(HBox(children=(Label(value='Embedding method:'), Dropdown(index=1, options=('BERT', 'SciBERT'),…"
      ]
     },
     "metadata": {},
     "output_type": "display_data"
    }
   ],
   "source": [
    "widgets.VBox([\n",
    "    widgets.HBox([\n",
    "        widgets.Label(\"Embedding method:\"),\n",
    "        method_dropdown,\n",
    "    ]),\n",
    "    widgets.HBox([\n",
    "        widgets.Label(\"Number of similar papers:\"),\n",
    "        n_papers_slider,\n",
    "    ]),\n",
    "    widgets.HBox([\n",
    "        widgets.Label(\"Sentence:\"),\n",
    "        sentence_textarea,\n",
    "    ]),\n",
    "])"
   ]
  },
  {
   "cell_type": "code",
   "execution_count": 33,
   "metadata": {
    "slideshow": {
     "slide_type": "subslide"
    }
   },
   "outputs": [
    {
     "data": {
      "text/html": [
       "<h4>1. </h4><p>What do you expect this nCoV outbreak to be in the future?</p>"
      ],
      "text/plain": [
       "<IPython.core.display.HTML object>"
      ]
     },
     "metadata": {},
     "output_type": "display_data"
    },
    {
     "data": {
      "text/html": [
       "<h4>2. Editor-in-Chief</h4><p>The JIDC looks forward to helping in this epidemic (and maybe soon a pandemic) by publishing important information that provides the Global community with research updates on the 902-494-5125 2019 nCoV.</p>"
      ],
      "text/plain": [
       "<IPython.core.display.HTML object>"
      ]
     },
     "metadata": {},
     "output_type": "display_data"
    },
    {
     "data": {
      "text/html": [
       "<h4>3. Potential Rapid Diagnostics, Vaccine and Therapeutics for 2019 Novel Coronavirus (2019-nCoV): A Systematic Review</h4><p>Vaccines against the 2019-nCoV are currently in development and none are in testing (at the time of writing). On 23 January 2020, the Coalition for Epidemic Preparedness Innovations (CEPI) announced that they will fund vaccine development programmes with Inovio, The University of Queensland and Moderna, Inc respectively, with the aim to test the experimental vaccines clinically in 16 weeks (By June 2020). The vaccine candidates will be developed by the DNA, recombinant and mRNA vaccine platforms from these organizations [109] .</p>"
      ],
      "text/plain": [
       "<IPython.core.display.HTML object>"
      ]
     },
     "metadata": {},
     "output_type": "display_data"
    },
    {
     "data": {
      "text/html": [
       "<h4>4. Revisiting the dangers of the coronavirus in the ophthalmology practice</h4><p>As the WHO Director-General, Tedros Adhanom Ghebreyesus highlighted, \"Make no mistake: this is an emergency in China. But it has not yet become a global health emergency. It may yet become one.\" It is currently very difficult to predict the eventual impact of the 2019-nCoV. However, it will be prudent to utilise the lessons gained from SARS-CoV and prepare for the worst. Until a vaccine is created, public health strategies are likely the best weapons against the enemy.</p>"
      ],
      "text/plain": [
       "<IPython.core.display.HTML object>"
      ]
     },
     "metadata": {},
     "output_type": "display_data"
    },
    {
     "data": {
      "text/html": [
       "<h4>5. Prediction of the Epidemic of COVID-19 Based on Quarantined Surveillance in China</h4><p>epidemic can be completetly controlled in May,2020 (Figure 5,Figure 7) . It can be probably avoided the pandemic of global</p>"
      ],
      "text/plain": [
       "<IPython.core.display.HTML object>"
      ]
     },
     "metadata": {},
     "output_type": "display_data"
    }
   ],
   "source": [
    "display_most_similar_paragraphs(\n",
    "    sentence_textarea.value,\n",
    "    bert_paragraphs_df if \"BERT\" == method_dropdown.value else scibert_paragraphs_df,\n",
    "    covid_19_articles_df,\n",
    "    bert_client if \"BERT\" == method_dropdown.value else scibert_client,\n",
    "    n_papers_slider.value,\n",
    ")"
   ]
  },
  {
   "cell_type": "code",
   "execution_count": null,
   "metadata": {},
   "outputs": [],
   "source": []
  }
 ],
 "metadata": {
  "kernelspec": {
   "display_name": "Python 3",
   "language": "python",
   "name": "python3"
  },
  "language_info": {
   "codemirror_mode": {
    "name": "ipython",
    "version": 3
   },
   "file_extension": ".py",
   "mimetype": "text/x-python",
   "name": "python",
   "nbconvert_exporter": "python",
   "pygments_lexer": "ipython3",
   "version": "3.7.6"
  }
 },
 "nbformat": 4,
 "nbformat_minor": 4
}
