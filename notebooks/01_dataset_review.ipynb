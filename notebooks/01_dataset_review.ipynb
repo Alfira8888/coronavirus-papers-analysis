{
 "cells": [
  {
   "cell_type": "markdown",
   "metadata": {},
   "source": [
    "# 01. Dataset review\n",
    "\n",
    "[COVID-19 Open Research Dataset (CORD-19)](https://pages.semanticscholar.org/coronavirus-research) is a free resource delivering over 44 000 papers, including over 29 000 full texts about COVID-19 and the coronavirus family of viruses for use by the global research community. The dataset contains the content of the articles, as well as some additional metadata. The idea is to give free access to all the people who are familiar with modern NLP techniques, in order to extract some useful insights that could help the society to understand better the causes, treatments and possible effects on the humanity.\n",
    "\n",
    "There is a Kaggle [COVID-19 Open Research Dataset Challenge](https://www.kaggle.com/allen-institute-for-ai/CORD-19-research-challenge) that uses the dataset as a base for looking for the answers to a series of important questions about the current epidemy."
   ]
  },
  {
   "cell_type": "markdown",
   "metadata": {},
   "source": [
    "![SARS paper warning in 2007](images/sars-warning-2007.jpeg)\n",
    "\n",
    "*Source: linkedin.com, Wilmar Igl*"
   ]
  },
  {
   "cell_type": "markdown",
   "metadata": {},
   "source": [
    "## Problem definition\n",
    "\n",
    "The number of papers on COVID-19 grows so fast that nobody can really follow them all and be up to date with the latest outcomes. Due to that, having a tool which allows to quickly search for the relevant papers, might be great for the researchers, but also to all the people who are interested in anything related to the pandemic. The main problem is to find a way to easily compare the given question to the papers' content, in order to find the ones that answer it. We can expect the papers to be written in a formal language, using some domain-specific words and phrases, and without the prior knowledge of the subject, we cannot really express our thought with exactly the same form as the researchers did. That's where modern NLP methods comes to the rescue."
   ]
  },
  {
   "cell_type": "markdown",
   "metadata": {},
   "source": [
    "## Loading the dataset\n",
    "\n",
    "The full schema of the dataset can be easily found on the website. In general, it is divided into 4 subsets depending on the license of the paper, and each article is put in a separate JSON file. The main unit of the text is a single paragraph, so if we want to have the whole text together, we need to make a little preprocessing. For the simplicity, we are going to put the articles in a flat structure, a DataFrame, so the paper identifier, its title, abstract, body text and license are going to be our columns and each row is going to represent a single article. However, we are also going to keep the paragraphs, as they are quite well-suited to the problem of encoding the meaning. Finally, we are going to have two different DataFrames then.\n",
    "\n",
    "First of all, let's combine all the file paths into a single list, to allow reading them quickly."
   ]
  },
  {
   "cell_type": "code",
   "execution_count": 3,
   "metadata": {},
   "outputs": [],
   "source": [
    "from typing import List"
   ]
  },
  {
   "cell_type": "code",
   "execution_count": 18,
   "metadata": {},
   "outputs": [],
   "source": [
    "import matplotlib.pyplot as plt\n",
    "import pandas as pd\n",
    "import logging\n",
    "import glob\n",
    "import json\n",
    "import sys\n",
    "import os"
   ]
  },
  {
   "cell_type": "code",
   "execution_count": 5,
   "metadata": {},
   "outputs": [],
   "source": [
    "logger = logging.getLogger(__name__)\n",
    "logging.basicConfig(stream=sys.stderr, level=logging.INFO)"
   ]
  },
  {
   "cell_type": "code",
   "execution_count": 6,
   "metadata": {},
   "outputs": [],
   "source": [
    "input_dirs = [\n",
    "    \"/data/cord19/comm_use_subset\", \n",
    "    \"/data/cord19/biorxiv_medrxiv\", \n",
    "    \"/data/cord19/noncomm_use_subset\",\n",
    "    \"/data/cord19/pmc_custom_license\",\n",
    "]"
   ]
  },
  {
   "cell_type": "code",
   "execution_count": 7,
   "metadata": {},
   "outputs": [
    {
     "name": "stderr",
     "output_type": "stream",
     "text": [
      "INFO:__main__:Got 13202 articles overall\n"
     ]
    }
   ],
   "source": [
    "input_files = []\n",
    "for input_dir in input_dirs:\n",
    "    current_files = glob.glob(f\"{input_dir}/*\")\n",
    "    logger.debug(\"Got %d articles from the directory %s\",\n",
    "                 len(current_files), input_dir)\n",
    "    input_files = input_files + current_files\n",
    "logger.info(\"Got %d articles overall\", len(input_files))"
   ]
  },
  {
   "cell_type": "markdown",
   "metadata": {},
   "source": [
    "## Getting the paragraphs\n",
    "\n",
    "We have already mentioned, the dataset uses paragraph as a basic unit for body text representation. We are also going to have one DataFrame, where the paragraphs will be stored, along with their position in the article and the identifier of the source paper."
   ]
  },
  {
   "cell_type": "code",
   "execution_count": 8,
   "metadata": {},
   "outputs": [],
   "source": [
    "paragraphs = []\n",
    "for input_file in input_files:\n",
    "    # Extract the directory name, as it defines\n",
    "    # the license type for the article\n",
    "    dirname = os.path.dirname(input_file)\n",
    "    article_license = os.path.basename(dirname)\n",
    "    \n",
    "    # Process a single article file\n",
    "    with open(input_file, \"r\") as fp:\n",
    "        # Load JSON representation of an article\n",
    "        doc = json.load(fp)\n",
    "        \n",
    "        # Combine all the paragraphs into single text\n",
    "        for i, part in enumerate(doc[\"body_text\"]):\n",
    "            # Put the paragraph to the list of rows\n",
    "            paragraph = [doc[\"paper_id\"], i, part[\"text\"], article_license]\n",
    "            paragraphs.append(paragraph)"
   ]
  },
  {
   "cell_type": "code",
   "execution_count": 9,
   "metadata": {},
   "outputs": [],
   "source": [
    "paragraphs_df = pd.DataFrame(\n",
    "    paragraphs, columns=[\"paper_id\", \"paragraph_number\", \n",
    "                         \"paragraph_text\", \"paper_license\"]\n",
    ").set_index([\"paper_id\", \"paragraph_number\"])"
   ]
  },
  {
   "cell_type": "code",
   "execution_count": 10,
   "metadata": {},
   "outputs": [
    {
     "data": {
      "text/html": [
       "<div>\n",
       "<style scoped>\n",
       "    .dataframe tbody tr th:only-of-type {\n",
       "        vertical-align: middle;\n",
       "    }\n",
       "\n",
       "    .dataframe tbody tr th {\n",
       "        vertical-align: top;\n",
       "    }\n",
       "\n",
       "    .dataframe thead th {\n",
       "        text-align: right;\n",
       "    }\n",
       "</style>\n",
       "<table border=\"1\" class=\"dataframe\">\n",
       "  <thead>\n",
       "    <tr style=\"text-align: right;\">\n",
       "      <th></th>\n",
       "      <th></th>\n",
       "      <th>paragraph_text</th>\n",
       "      <th>paper_license</th>\n",
       "    </tr>\n",
       "    <tr>\n",
       "      <th>paper_id</th>\n",
       "      <th>paragraph_number</th>\n",
       "      <th></th>\n",
       "      <th></th>\n",
       "    </tr>\n",
       "  </thead>\n",
       "  <tbody>\n",
       "    <tr>\n",
       "      <th>46768e7c839a7f4de0d5a73d25897f948b4eac30</th>\n",
       "      <th>3</th>\n",
       "      <td>During July-August 2015, the Ministry of Healt...</td>\n",
       "      <td>noncomm_use_subset</td>\n",
       "    </tr>\n",
       "    <tr>\n",
       "      <th>376ac2d5c7446918fdc12ef89696687b8a2b23d8</th>\n",
       "      <th>16</th>\n",
       "      <td>Irrespective of the overall common suppressive...</td>\n",
       "      <td>comm_use_subset</td>\n",
       "    </tr>\n",
       "    <tr>\n",
       "      <th>b30770ae30b35cdfaf0a173863e74e93edbb0329</th>\n",
       "      <th>381</th>\n",
       "      <td>In ischemic tissue extravascular volume will d...</td>\n",
       "      <td>comm_use_subset</td>\n",
       "    </tr>\n",
       "  </tbody>\n",
       "</table>\n",
       "</div>"
      ],
      "text/plain": [
       "                                                                                              paragraph_text  \\\n",
       "paper_id                                 paragraph_number                                                      \n",
       "46768e7c839a7f4de0d5a73d25897f948b4eac30 3                 During July-August 2015, the Ministry of Healt...   \n",
       "376ac2d5c7446918fdc12ef89696687b8a2b23d8 16                Irrespective of the overall common suppressive...   \n",
       "b30770ae30b35cdfaf0a173863e74e93edbb0329 381               In ischemic tissue extravascular volume will d...   \n",
       "\n",
       "                                                                paper_license  \n",
       "paper_id                                 paragraph_number                      \n",
       "46768e7c839a7f4de0d5a73d25897f948b4eac30 3                 noncomm_use_subset  \n",
       "376ac2d5c7446918fdc12ef89696687b8a2b23d8 16                   comm_use_subset  \n",
       "b30770ae30b35cdfaf0a173863e74e93edbb0329 381                  comm_use_subset  "
      ]
     },
     "execution_count": 10,
     "metadata": {},
     "output_type": "execute_result"
    }
   ],
   "source": [
    "paragraphs_df.sample(n=3)"
   ]
  },
  {
   "cell_type": "code",
   "execution_count": 11,
   "metadata": {},
   "outputs": [
    {
     "data": {
      "text/plain": [
       "(412268, 2)"
      ]
     },
     "execution_count": 11,
     "metadata": {},
     "output_type": "execute_result"
    }
   ],
   "source": [
    "paragraphs_df.shape"
   ]
  },
  {
   "cell_type": "code",
   "execution_count": 15,
   "metadata": {},
   "outputs": [],
   "source": [
    "paragraphs_df.to_parquet(\"./data/paragraphs_df.parquet\")"
   ]
  },
  {
   "cell_type": "markdown",
   "metadata": {},
   "source": [
    "The dataset has over 400 000 paragraphs, and the histogram below shows the distribution of their lengths."
   ]
  },
  {
   "cell_type": "code",
   "execution_count": 24,
   "metadata": {},
   "outputs": [
    {
     "data": {
      "image/png": "[encoded data removed]",
      "text/plain": [
       "<Figure size 1440x720 with 1 Axes>"
      ]
     },
     "metadata": {
      "needs_background": "light"
     },
     "output_type": "display_data"
    }
   ],
   "source": [
    "with plt.style.context(\"seaborn-pastel\"):\n",
    "    paragraphs_df[\"paragraph_text\"].str.len() \\\n",
    "        .hist(figsize=(20, 10), bins=50, log=True)"
   ]
  },
  {
   "cell_type": "markdown",
   "metadata": {},
   "source": [
    "The distribution of the word counts is also quite interesting, so it's presented on a histogram below. Please keep in mind, we used `.split` method to perform the tokenization, so the results might be different comparing to some more fancy algorithms."
   ]
  },
  {
   "cell_type": "code",
   "execution_count": 23,
   "metadata": {},
   "outputs": [
    {
     "data": {
      "image/png": "[encoded data removed]",
      "text/plain": [
       "<Figure size 1440x720 with 1 Axes>"
      ]
     },
     "metadata": {
      "needs_background": "light"
     },
     "output_type": "display_data"
    }
   ],
   "source": [
    "with plt.style.context(\"seaborn-pastel\"):\n",
    "    paragraphs_df[\"paragraph_text\"].str.split() \\\n",
    "        .map(lambda x: len(x)) \\\n",
    "        .hist(figsize=(20, 10), bins=50, log=True)"
   ]
  },
  {
   "cell_type": "markdown",
   "metadata": {},
   "source": [
    "## Getting the articles\n",
    "\n",
    "The dataset of paragraphs has the paper identifier as one of the columns. That was done to avoid putting the title, abstract, etc. at paragraph level, due to high redundancy. Instead, we are going to get the paper details from a separate DataFrame, once the paragraph might be a proper answer to somebody's question."
   ]
  },
  {
   "cell_type": "code",
   "execution_count": 26,
   "metadata": {},
   "outputs": [],
   "source": [
    "def extract_full_text(doc_entry: List[dict]) -> str:\n",
    "    return \"\\n\".join((part[\"text\"] for part in doc_entry))"
   ]
  },
  {
   "cell_type": "code",
   "execution_count": 27,
   "metadata": {},
   "outputs": [],
   "source": [
    "articles = []\n",
    "for input_file in input_files:\n",
    "    # Extract the directory name, as it defines\n",
    "    # the license type for the article\n",
    "    dirname = os.path.dirname(input_file)\n",
    "    article_license = os.path.basename(dirname)\n",
    "    \n",
    "    # Process a single article file\n",
    "    with open(input_file, \"r\") as fp:\n",
    "        # Load JSON representation of an article\n",
    "        doc = json.load(fp)\n",
    "        \n",
    "        # Combine all the paragraphs into single text\n",
    "        abstract = extract_full_text(doc[\"abstract\"]).strip()\n",
    "        body_text = extract_full_text(doc[\"body_text\"]).strip()\n",
    "        back_matter = extract_full_text(doc[\"back_matter\"]).strip()\n",
    "        \n",
    "        # Correct, if abstract is a part of body text, as then\n",
    "        # the body text typically starts with a lowercase letter\n",
    "        if body_text[0].islower():\n",
    "            body_text = f\"{abstract} {body_text}\"\n",
    "        \n",
    "        # Put the article to the list of rows\n",
    "        article = [doc[\"paper_id\"], doc[\"metadata\"][\"title\"],\n",
    "                   abstract, body_text, \n",
    "                   back_matter, article_license]\n",
    "        articles.append(article)"
   ]
  },
  {
   "cell_type": "code",
   "execution_count": 28,
   "metadata": {},
   "outputs": [],
   "source": [
    "articles_df = pd.DataFrame(\n",
    "    articles, columns=[\"paper_id\", \"title\", \n",
    "                       \"abstract\", \"body_text\", \n",
    "                       \"back_matter\", \"license\"]\n",
    ").set_index(\"paper_id\")"
   ]
  },
  {
   "cell_type": "code",
   "execution_count": 29,
   "metadata": {},
   "outputs": [
    {
     "data": {
      "text/html": [
       "<div>\n",
       "<style scoped>\n",
       "    .dataframe tbody tr th:only-of-type {\n",
       "        vertical-align: middle;\n",
       "    }\n",
       "\n",
       "    .dataframe tbody tr th {\n",
       "        vertical-align: top;\n",
       "    }\n",
       "\n",
       "    .dataframe thead th {\n",
       "        text-align: right;\n",
       "    }\n",
       "</style>\n",
       "<table border=\"1\" class=\"dataframe\">\n",
       "  <thead>\n",
       "    <tr style=\"text-align: right;\">\n",
       "      <th></th>\n",
       "      <th>title</th>\n",
       "      <th>abstract</th>\n",
       "      <th>body_text</th>\n",
       "      <th>back_matter</th>\n",
       "      <th>license</th>\n",
       "    </tr>\n",
       "    <tr>\n",
       "      <th>paper_id</th>\n",
       "      <th></th>\n",
       "      <th></th>\n",
       "      <th></th>\n",
       "      <th></th>\n",
       "      <th></th>\n",
       "    </tr>\n",
       "  </thead>\n",
       "  <tbody>\n",
       "    <tr>\n",
       "      <th>18aa7bfcf8b4dfcad03cf4836aaaa5345d6cfdc7</th>\n",
       "      <td>Citation: Molecular Therapy-Nucleic Acids (201...</td>\n",
       "      <td>Development of RNAi-based therapeutics has the...</td>\n",
       "      <td>RNA interference (RNAi) is a powerful approach...</td>\n",
       "      <td>Acknowledgments. We thank Wendy Baker and Prof...</td>\n",
       "      <td>noncomm_use_subset</td>\n",
       "    </tr>\n",
       "    <tr>\n",
       "      <th>69cf21ea0c191cb1ea580856df13fea7b1608b00</th>\n",
       "      <td></td>\n",
       "      <td>Background: Acute lower respiratory tract infe...</td>\n",
       "      <td>(Continued from previous page) Discussion: If ...</td>\n",
       "      <td>We would like to acknowledge the role of Profe...</td>\n",
       "      <td>comm_use_subset</td>\n",
       "    </tr>\n",
       "    <tr>\n",
       "      <th>0d82c429737f250a7bcd230fea2e4725edc2439a</th>\n",
       "      <td>viruses The Interaction between Nidovirales an...</td>\n",
       "      <td>Autophagy is a conserved intracellular catabol...</td>\n",
       "      <td>Nidoviruses rank among the most complex RNA vi...</td>\n",
       "      <td>Author Contributions: Y.C., P.V. and F.R. orga...</td>\n",
       "      <td>comm_use_subset</td>\n",
       "    </tr>\n",
       "    <tr>\n",
       "      <th>a735cd10efb7df82d87da350bc33e3ca3acab6ed</th>\n",
       "      <td>The risk of transmission of a viral haemorrhag...</td>\n",
       "      <td></td>\n",
       "      <td>contaminated with splashes or droplets of blo...</td>\n",
       "      <td>Microbiology and Biotechnology Unit, Health an...</td>\n",
       "      <td>comm_use_subset</td>\n",
       "    </tr>\n",
       "    <tr>\n",
       "      <th>cf12680358351109a975a23165bbb48620b578a5</th>\n",
       "      <td>Development of a recombinant replication- defi...</td>\n",
       "      <td>Middle East respiratory syndrome-coronavirus (...</td>\n",
       "      <td>Middle East respiratory syndrome (MERS) is a h...</td>\n",
       "      <td>We would like to thank Dr. Kazuo Ohnishi and M...</td>\n",
       "      <td>comm_use_subset</td>\n",
       "    </tr>\n",
       "  </tbody>\n",
       "</table>\n",
       "</div>"
      ],
      "text/plain": [
       "                                                                                      title  \\\n",
       "paper_id                                                                                      \n",
       "18aa7bfcf8b4dfcad03cf4836aaaa5345d6cfdc7  Citation: Molecular Therapy-Nucleic Acids (201...   \n",
       "69cf21ea0c191cb1ea580856df13fea7b1608b00                                                      \n",
       "0d82c429737f250a7bcd230fea2e4725edc2439a  viruses The Interaction between Nidovirales an...   \n",
       "a735cd10efb7df82d87da350bc33e3ca3acab6ed  The risk of transmission of a viral haemorrhag...   \n",
       "cf12680358351109a975a23165bbb48620b578a5  Development of a recombinant replication- defi...   \n",
       "\n",
       "                                                                                   abstract  \\\n",
       "paper_id                                                                                      \n",
       "18aa7bfcf8b4dfcad03cf4836aaaa5345d6cfdc7  Development of RNAi-based therapeutics has the...   \n",
       "69cf21ea0c191cb1ea580856df13fea7b1608b00  Background: Acute lower respiratory tract infe...   \n",
       "0d82c429737f250a7bcd230fea2e4725edc2439a  Autophagy is a conserved intracellular catabol...   \n",
       "a735cd10efb7df82d87da350bc33e3ca3acab6ed                                                      \n",
       "cf12680358351109a975a23165bbb48620b578a5  Middle East respiratory syndrome-coronavirus (...   \n",
       "\n",
       "                                                                                  body_text  \\\n",
       "paper_id                                                                                      \n",
       "18aa7bfcf8b4dfcad03cf4836aaaa5345d6cfdc7  RNA interference (RNAi) is a powerful approach...   \n",
       "69cf21ea0c191cb1ea580856df13fea7b1608b00  (Continued from previous page) Discussion: If ...   \n",
       "0d82c429737f250a7bcd230fea2e4725edc2439a  Nidoviruses rank among the most complex RNA vi...   \n",
       "a735cd10efb7df82d87da350bc33e3ca3acab6ed   contaminated with splashes or droplets of blo...   \n",
       "cf12680358351109a975a23165bbb48620b578a5  Middle East respiratory syndrome (MERS) is a h...   \n",
       "\n",
       "                                                                                back_matter  \\\n",
       "paper_id                                                                                      \n",
       "18aa7bfcf8b4dfcad03cf4836aaaa5345d6cfdc7  Acknowledgments. We thank Wendy Baker and Prof...   \n",
       "69cf21ea0c191cb1ea580856df13fea7b1608b00  We would like to acknowledge the role of Profe...   \n",
       "0d82c429737f250a7bcd230fea2e4725edc2439a  Author Contributions: Y.C., P.V. and F.R. orga...   \n",
       "a735cd10efb7df82d87da350bc33e3ca3acab6ed  Microbiology and Biotechnology Unit, Health an...   \n",
       "cf12680358351109a975a23165bbb48620b578a5  We would like to thank Dr. Kazuo Ohnishi and M...   \n",
       "\n",
       "                                                     license  \n",
       "paper_id                                                      \n",
       "18aa7bfcf8b4dfcad03cf4836aaaa5345d6cfdc7  noncomm_use_subset  \n",
       "69cf21ea0c191cb1ea580856df13fea7b1608b00     comm_use_subset  \n",
       "0d82c429737f250a7bcd230fea2e4725edc2439a     comm_use_subset  \n",
       "a735cd10efb7df82d87da350bc33e3ca3acab6ed     comm_use_subset  \n",
       "cf12680358351109a975a23165bbb48620b578a5     comm_use_subset  "
      ]
     },
     "execution_count": 29,
     "metadata": {},
     "output_type": "execute_result"
    }
   ],
   "source": [
    "articles_df.sample(n=5)"
   ]
  },
  {
   "cell_type": "code",
   "execution_count": 30,
   "metadata": {},
   "outputs": [
    {
     "data": {
      "text/plain": [
       "(13202, 5)"
      ]
     },
     "execution_count": 30,
     "metadata": {},
     "output_type": "execute_result"
    }
   ],
   "source": [
    "articles_df.shape"
   ]
  },
  {
   "cell_type": "code",
   "execution_count": 31,
   "metadata": {},
   "outputs": [],
   "source": [
    "articles_df.to_parquet(\"./data/articles_df.parquet\")"
   ]
  },
  {
   "cell_type": "markdown",
   "metadata": {},
   "source": [
    "## Filtering the COVID-19 related papers\n",
    "\n",
    "As described at the very beginning, the dataset has the papers not only about the COVID-19, but also about different species of coronaviruses. If we wanted to compare the current pandemic with some previous ones, than it might be kind of interesting, but as we are going to analyze the current understanding of the problem, let's limit the dataset to contain the articles about COVID-19 only."
   ]
  },
  {
   "cell_type": "code",
   "execution_count": 32,
   "metadata": {},
   "outputs": [],
   "source": [
    "covid_19_articles_df = articles_df[\n",
    "    articles_df[\"body_text\"].str.contains(\"SARS-CoV-2\", case=False) |\n",
    "    articles_df[\"body_text\"].str.contains(\"COVID-19\", case=False) |\n",
    "    articles_df[\"body_text\"].str.contains(\"2019-nCoV\", case=False)\n",
    "]"
   ]
  },
  {
   "cell_type": "code",
   "execution_count": 34,
   "metadata": {},
   "outputs": [
    {
     "data": {
      "text/html": [
       "<div>\n",
       "<style scoped>\n",
       "    .dataframe tbody tr th:only-of-type {\n",
       "        vertical-align: middle;\n",
       "    }\n",
       "\n",
       "    .dataframe tbody tr th {\n",
       "        vertical-align: top;\n",
       "    }\n",
       "\n",
       "    .dataframe thead th {\n",
       "        text-align: right;\n",
       "    }\n",
       "</style>\n",
       "<table border=\"1\" class=\"dataframe\">\n",
       "  <thead>\n",
       "    <tr style=\"text-align: right;\">\n",
       "      <th></th>\n",
       "      <th>title</th>\n",
       "      <th>abstract</th>\n",
       "      <th>body_text</th>\n",
       "      <th>back_matter</th>\n",
       "      <th>license</th>\n",
       "    </tr>\n",
       "    <tr>\n",
       "      <th>paper_id</th>\n",
       "      <th></th>\n",
       "      <th></th>\n",
       "      <th></th>\n",
       "      <th></th>\n",
       "      <th></th>\n",
       "    </tr>\n",
       "  </thead>\n",
       "  <tbody>\n",
       "    <tr>\n",
       "      <th>14783283da3482bf2aab4e6100fe4ea5c29d8db7</th>\n",
       "      <td>Original investigation Vicarious traumatizatio...</td>\n",
       "      <td>Since December 2019, more than 79,000 people h...</td>\n",
       "      <td>Since December 2019, the outbreak of COVID-19 ...</td>\n",
       "      <td></td>\n",
       "      <td>biorxiv_medrxiv</td>\n",
       "    </tr>\n",
       "    <tr>\n",
       "      <th>5585d267f9b505b068f9f72bff5f12c248472f0a</th>\n",
       "      <td>Epidemic size of novel coronavirus-infected pn...</td>\n",
       "      <td>Background: Since late December 2019, novel co...</td>\n",
       "      <td>In the late December 2019, a pneumonia, now kn...</td>\n",
       "      <td>All rights reserved. No reuse allowed without ...</td>\n",
       "      <td>biorxiv_medrxiv</td>\n",
       "    </tr>\n",
       "    <tr>\n",
       "      <th>46634d03aa169aab9c372746ebaf3aaa65d7c7d9</th>\n",
       "      <td>Case fatality rate of novel coronavirus diseas...</td>\n",
       "      <td>Background: A pandemic of coronavirus disease ...</td>\n",
       "      <td>Background: A pandemic of coronavirus disease ...</td>\n",
       "      <td>to COVID-19 could be regarded as timely. The s...</td>\n",
       "      <td>biorxiv_medrxiv</td>\n",
       "    </tr>\n",
       "  </tbody>\n",
       "</table>\n",
       "</div>"
      ],
      "text/plain": [
       "                                                                                      title  \\\n",
       "paper_id                                                                                      \n",
       "14783283da3482bf2aab4e6100fe4ea5c29d8db7  Original investigation Vicarious traumatizatio...   \n",
       "5585d267f9b505b068f9f72bff5f12c248472f0a  Epidemic size of novel coronavirus-infected pn...   \n",
       "46634d03aa169aab9c372746ebaf3aaa65d7c7d9  Case fatality rate of novel coronavirus diseas...   \n",
       "\n",
       "                                                                                   abstract  \\\n",
       "paper_id                                                                                      \n",
       "14783283da3482bf2aab4e6100fe4ea5c29d8db7  Since December 2019, more than 79,000 people h...   \n",
       "5585d267f9b505b068f9f72bff5f12c248472f0a  Background: Since late December 2019, novel co...   \n",
       "46634d03aa169aab9c372746ebaf3aaa65d7c7d9  Background: A pandemic of coronavirus disease ...   \n",
       "\n",
       "                                                                                  body_text  \\\n",
       "paper_id                                                                                      \n",
       "14783283da3482bf2aab4e6100fe4ea5c29d8db7  Since December 2019, the outbreak of COVID-19 ...   \n",
       "5585d267f9b505b068f9f72bff5f12c248472f0a  In the late December 2019, a pneumonia, now kn...   \n",
       "46634d03aa169aab9c372746ebaf3aaa65d7c7d9  Background: A pandemic of coronavirus disease ...   \n",
       "\n",
       "                                                                                back_matter  \\\n",
       "paper_id                                                                                      \n",
       "14783283da3482bf2aab4e6100fe4ea5c29d8db7                                                      \n",
       "5585d267f9b505b068f9f72bff5f12c248472f0a  All rights reserved. No reuse allowed without ...   \n",
       "46634d03aa169aab9c372746ebaf3aaa65d7c7d9  to COVID-19 could be regarded as timely. The s...   \n",
       "\n",
       "                                                  license  \n",
       "paper_id                                                   \n",
       "14783283da3482bf2aab4e6100fe4ea5c29d8db7  biorxiv_medrxiv  \n",
       "5585d267f9b505b068f9f72bff5f12c248472f0a  biorxiv_medrxiv  \n",
       "46634d03aa169aab9c372746ebaf3aaa65d7c7d9  biorxiv_medrxiv  "
      ]
     },
     "execution_count": 34,
     "metadata": {},
     "output_type": "execute_result"
    }
   ],
   "source": [
    "covid_19_articles_df.sample(n=3)"
   ]
  },
  {
   "cell_type": "code",
   "execution_count": 33,
   "metadata": {},
   "outputs": [
    {
     "data": {
      "text/plain": [
       "(560, 5)"
      ]
     },
     "execution_count": 33,
     "metadata": {},
     "output_type": "execute_result"
    }
   ],
   "source": [
    "covid_19_articles_df.shape"
   ]
  },
  {
   "cell_type": "code",
   "execution_count": 19,
   "metadata": {},
   "outputs": [],
   "source": [
    "covid_19_articles_df.to_parquet(\"./data/covid_19_articles_df.parquet\")"
   ]
  },
  {
   "cell_type": "markdown",
   "metadata": {},
   "source": [
    "## Target application\n",
    "\n",
    "The main problem is how to encode the question to make it comparable with the paragraph content. Hopefully, the modern text vectorization methods would help us to solve that issue. For that reason, we are going to perform the following steps:\n",
    "\n",
    "1. For each paragraph, prepare a vectorized representation of its content. \n",
    "2. When a user inputs a question, create the corresponding vector representation of it.\n",
    "3. Find the N closest paragraph vectors to the question vector."
   ]
  },
  {
   "cell_type": "code",
   "execution_count": null,
   "metadata": {},
   "outputs": [],
   "source": []
  }
 ],
 "metadata": {
  "kernelspec": {
   "display_name": "Python 3",
   "language": "python",
   "name": "python3"
  },
  "language_info": {
   "codemirror_mode": {
    "name": "ipython",
    "version": 3
   },
   "file_extension": ".py",
   "mimetype": "text/x-python",
   "name": "python",
   "nbconvert_exporter": "python",
   "pygments_lexer": "ipython3",
   "version": "3.7.6"
  }
 },
 "nbformat": 4,
 "nbformat_minor": 4
}
