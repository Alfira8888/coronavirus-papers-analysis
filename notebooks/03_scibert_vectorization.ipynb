{
 "cells": [
  {
   "cell_type": "markdown",
   "metadata": {},
   "source": [
    "# 03. SciBERT vectorization\n",
    "\n",
    "BERT is a model trained on general purposes language corpora. It works pretty well for different domain agnostic tasks, however, there is plenty of extensions that use BERT-like modelling, but are trained on some specific language subset. Just to name a few:\n",
    "- **SciBERT** - a BERT model for scientific text\n",
    "- **BioBERT** - a pre-trained biomedical language representation model\n",
    "- **ClinicalBERT** - a Clinical Notes modelling\n",
    "- **VideoBERT** - a Joint Model for Video and Language Representation Learning\n",
    "- **PatentBERT** - for patent classification\n",
    "- **DocBERT** - BERT for document classification\n",
    "\n",
    "These domain-specific models are typically working better with the kind of documents they were trained on. We will try to use SciBERT, as the scientific papers are considered in the scope of the project. "
   ]
  },
  {
   "cell_type": "code",
   "execution_count": 1,
   "metadata": {},
   "outputs": [],
   "source": [
    "from bert_serving.client import BertClient\n",
    "from IPython.display import display, HTML\n",
    "from scipy.spatial import distance"
   ]
  },
  {
   "cell_type": "code",
   "execution_count": 2,
   "metadata": {},
   "outputs": [],
   "source": [
    "import pandas as pd\n",
    "import numpy as np\n",
    "import logging"
   ]
  },
  {
   "cell_type": "code",
   "execution_count": 3,
   "metadata": {},
   "outputs": [],
   "source": [
    "logger = logging.getLogger(__name__)"
   ]
  },
  {
   "cell_type": "code",
   "execution_count": 4,
   "metadata": {},
   "outputs": [],
   "source": [
    "covid_19_articles_df = pd.read_parquet(\"./data/covid_19_articles_df.parquet\")"
   ]
  },
  {
   "cell_type": "code",
   "execution_count": 5,
   "metadata": {},
   "outputs": [
    {
     "data": {
      "text/plain": [
       "(560, 5)"
      ]
     },
     "execution_count": 5,
     "metadata": {},
     "output_type": "execute_result"
    }
   ],
   "source": [
    "covid_19_articles_df.shape"
   ]
  },
  {
   "cell_type": "code",
   "execution_count": 6,
   "metadata": {},
   "outputs": [
    {
     "data": {
      "text/html": [
       "<div>\n",
       "<style scoped>\n",
       "    .dataframe tbody tr th:only-of-type {\n",
       "        vertical-align: middle;\n",
       "    }\n",
       "\n",
       "    .dataframe tbody tr th {\n",
       "        vertical-align: top;\n",
       "    }\n",
       "\n",
       "    .dataframe thead th {\n",
       "        text-align: right;\n",
       "    }\n",
       "</style>\n",
       "<table border=\"1\" class=\"dataframe\">\n",
       "  <thead>\n",
       "    <tr style=\"text-align: right;\">\n",
       "      <th></th>\n",
       "      <th>title</th>\n",
       "      <th>abstract</th>\n",
       "      <th>body_text</th>\n",
       "      <th>back_matter</th>\n",
       "      <th>license</th>\n",
       "    </tr>\n",
       "    <tr>\n",
       "      <th>paper_id</th>\n",
       "      <th></th>\n",
       "      <th></th>\n",
       "      <th></th>\n",
       "      <th></th>\n",
       "      <th></th>\n",
       "    </tr>\n",
       "  </thead>\n",
       "  <tbody>\n",
       "    <tr>\n",
       "      <th>abe590b95aa51e7309844156acdae4085870ea33</th>\n",
       "      <td>Analysis of early renal injury in COVID-19 and...</td>\n",
       "      <td>The aim of the study was to analyze the incide...</td>\n",
       "      <td>This study intends to use a number of laborato...</td>\n",
       "      <td></td>\n",
       "      <td>biorxiv_medrxiv</td>\n",
       "    </tr>\n",
       "    <tr>\n",
       "      <th>7ab9f9fcea519ebce527c3ede8091beedbb26ad9</th>\n",
       "      <td>Structural modeling of 2019-novel coronavirus ...</td>\n",
       "      <td>The 2019 novel coronavirus (2019-nCoV) is curr...</td>\n",
       "      <td>The coronaviruses belong to the Coronaviridae ...</td>\n",
       "      <td>We thank all member of the Whittaker and Danie...</td>\n",
       "      <td>biorxiv_medrxiv</td>\n",
       "    </tr>\n",
       "    <tr>\n",
       "      <th>91098f6fe46a21565bf0cb06fe960cdb2c3f5e38</th>\n",
       "      <td>The role of institutional trust in preventive ...</td>\n",
       "      <td>1 Background Since December 2019, pneumonia as...</td>\n",
       "      <td>1 Background Since December 2019, pneumonia as...</td>\n",
       "      <td>We thank the study participants for their prom...</td>\n",
       "      <td>biorxiv_medrxiv</td>\n",
       "    </tr>\n",
       "  </tbody>\n",
       "</table>\n",
       "</div>"
      ],
      "text/plain": [
       "                                                                                      title  \\\n",
       "paper_id                                                                                      \n",
       "abe590b95aa51e7309844156acdae4085870ea33  Analysis of early renal injury in COVID-19 and...   \n",
       "7ab9f9fcea519ebce527c3ede8091beedbb26ad9  Structural modeling of 2019-novel coronavirus ...   \n",
       "91098f6fe46a21565bf0cb06fe960cdb2c3f5e38  The role of institutional trust in preventive ...   \n",
       "\n",
       "                                                                                   abstract  \\\n",
       "paper_id                                                                                      \n",
       "abe590b95aa51e7309844156acdae4085870ea33  The aim of the study was to analyze the incide...   \n",
       "7ab9f9fcea519ebce527c3ede8091beedbb26ad9  The 2019 novel coronavirus (2019-nCoV) is curr...   \n",
       "91098f6fe46a21565bf0cb06fe960cdb2c3f5e38  1 Background Since December 2019, pneumonia as...   \n",
       "\n",
       "                                                                                  body_text  \\\n",
       "paper_id                                                                                      \n",
       "abe590b95aa51e7309844156acdae4085870ea33  This study intends to use a number of laborato...   \n",
       "7ab9f9fcea519ebce527c3ede8091beedbb26ad9  The coronaviruses belong to the Coronaviridae ...   \n",
       "91098f6fe46a21565bf0cb06fe960cdb2c3f5e38  1 Background Since December 2019, pneumonia as...   \n",
       "\n",
       "                                                                                back_matter  \\\n",
       "paper_id                                                                                      \n",
       "abe590b95aa51e7309844156acdae4085870ea33                                                      \n",
       "7ab9f9fcea519ebce527c3ede8091beedbb26ad9  We thank all member of the Whittaker and Danie...   \n",
       "91098f6fe46a21565bf0cb06fe960cdb2c3f5e38  We thank the study participants for their prom...   \n",
       "\n",
       "                                                  license  \n",
       "paper_id                                                   \n",
       "abe590b95aa51e7309844156acdae4085870ea33  biorxiv_medrxiv  \n",
       "7ab9f9fcea519ebce527c3ede8091beedbb26ad9  biorxiv_medrxiv  \n",
       "91098f6fe46a21565bf0cb06fe960cdb2c3f5e38  biorxiv_medrxiv  "
      ]
     },
     "execution_count": 6,
     "metadata": {},
     "output_type": "execute_result"
    }
   ],
   "source": [
    "covid_19_articles_df.sample(n=3)"
   ]
  },
  {
   "cell_type": "code",
   "execution_count": 7,
   "metadata": {},
   "outputs": [],
   "source": [
    "paragraphs_df = pd.read_parquet(\"./data/paragraphs_df.parquet\")"
   ]
  },
  {
   "cell_type": "code",
   "execution_count": 8,
   "metadata": {},
   "outputs": [],
   "source": [
    "paragraphs_df = paragraphs_df[\n",
    "    paragraphs_df.index.get_level_values(\"paper_id\").isin(covid_19_articles_df.index)\n",
    "]"
   ]
  },
  {
   "cell_type": "code",
   "execution_count": 9,
   "metadata": {},
   "outputs": [
    {
     "data": {
      "text/plain": [
       "(14847, 2)"
      ]
     },
     "execution_count": 9,
     "metadata": {},
     "output_type": "execute_result"
    }
   ],
   "source": [
    "paragraphs_df.shape"
   ]
  },
  {
   "cell_type": "code",
   "execution_count": 10,
   "metadata": {},
   "outputs": [
    {
     "data": {
      "text/html": [
       "<div>\n",
       "<style scoped>\n",
       "    .dataframe tbody tr th:only-of-type {\n",
       "        vertical-align: middle;\n",
       "    }\n",
       "\n",
       "    .dataframe tbody tr th {\n",
       "        vertical-align: top;\n",
       "    }\n",
       "\n",
       "    .dataframe thead th {\n",
       "        text-align: right;\n",
       "    }\n",
       "</style>\n",
       "<table border=\"1\" class=\"dataframe\">\n",
       "  <thead>\n",
       "    <tr style=\"text-align: right;\">\n",
       "      <th></th>\n",
       "      <th></th>\n",
       "      <th>paragraph_text</th>\n",
       "      <th>paper_license</th>\n",
       "    </tr>\n",
       "    <tr>\n",
       "      <th>paper_id</th>\n",
       "      <th>paragraph_number</th>\n",
       "      <th></th>\n",
       "      <th></th>\n",
       "    </tr>\n",
       "  </thead>\n",
       "  <tbody>\n",
       "    <tr>\n",
       "      <th>d4cfb1fc4fc53abbc1d4b0ca60276c6af6632c3c</th>\n",
       "      <th>73</th>\n",
       "      <td>The copyright holder for this preprint (which ...</td>\n",
       "      <td>biorxiv_medrxiv</td>\n",
       "    </tr>\n",
       "    <tr>\n",
       "      <th>0a32446730827ad8152c6a61e4738e4e0b231412</th>\n",
       "      <th>39</th>\n",
       "      <td>VDR is a nuclear receptor that mediates most b...</td>\n",
       "      <td>biorxiv_medrxiv</td>\n",
       "    </tr>\n",
       "    <tr>\n",
       "      <th>6726b273f345838661eaa39e8adb5df4e1815a9a</th>\n",
       "      <th>0</th>\n",
       "      <td>The coronavirus SARS-CoV-2 (previously known a...</td>\n",
       "      <td>biorxiv_medrxiv</td>\n",
       "    </tr>\n",
       "  </tbody>\n",
       "</table>\n",
       "</div>"
      ],
      "text/plain": [
       "                                                                                              paragraph_text  \\\n",
       "paper_id                                 paragraph_number                                                      \n",
       "d4cfb1fc4fc53abbc1d4b0ca60276c6af6632c3c 73                The copyright holder for this preprint (which ...   \n",
       "0a32446730827ad8152c6a61e4738e4e0b231412 39                VDR is a nuclear receptor that mediates most b...   \n",
       "6726b273f345838661eaa39e8adb5df4e1815a9a 0                 The coronavirus SARS-CoV-2 (previously known a...   \n",
       "\n",
       "                                                             paper_license  \n",
       "paper_id                                 paragraph_number                   \n",
       "d4cfb1fc4fc53abbc1d4b0ca60276c6af6632c3c 73                biorxiv_medrxiv  \n",
       "0a32446730827ad8152c6a61e4738e4e0b231412 39                biorxiv_medrxiv  \n",
       "6726b273f345838661eaa39e8adb5df4e1815a9a 0                 biorxiv_medrxiv  "
      ]
     },
     "execution_count": 10,
     "metadata": {},
     "output_type": "execute_result"
    }
   ],
   "source": [
    "paragraphs_df.sample(n=3)"
   ]
  },
  {
   "cell_type": "markdown",
   "metadata": {},
   "source": [
    "## Text vectorization with SciBERT\n",
    "\n",
    "The process, we are going to follow, is exactly the same like we did for BERT. Let's vectorize all the documents (please note, this time service is running on a different host) and use the embeddings to look for the answers to given questions."
   ]
  },
  {
   "cell_type": "code",
   "execution_count": 11,
   "metadata": {},
   "outputs": [],
   "source": [
    "# sciBERT is running on different host than BERT\n",
    "bc = BertClient(ip=\"scibert_server\", port=5555, port_out=5556)"
   ]
  },
  {
   "cell_type": "code",
   "execution_count": 12,
   "metadata": {},
   "outputs": [],
   "source": [
    "try:\n",
    "    paragraphs_df = pd.read_parquet(\"./data/paragraphs_df-scibert-last-layer.parquet\")\n",
    "except OSError as e:\n",
    "    logger.warning(\"Could not find vectorized paragraphs file: %s\", e)"
   ]
  },
  {
   "cell_type": "code",
   "execution_count": 13,
   "metadata": {},
   "outputs": [],
   "source": [
    "if \"bert_vector\" not in paragraphs_df:\n",
    "    paragraphs_df[\"bert_vector\"] = paragraphs_df[\"paragraph_text\"] \\\n",
    "        .map(lambda text: np.array(bc.encode([text]).flat))"
   ]
  },
  {
   "cell_type": "code",
   "execution_count": 14,
   "metadata": {},
   "outputs": [],
   "source": [
    "paragraphs_df.to_parquet(\"./data/paragraphs_df-scibert-last-layer.parquet\")"
   ]
  },
  {
   "cell_type": "markdown",
   "metadata": {},
   "source": [
    "## SciBERT-based question answering system\n",
    "\n",
    "We would like to have a question answering system. That approach failed a bit with the general purposes BERT, but we can check how SciBERT is able to do that."
   ]
  },
  {
   "cell_type": "code",
   "execution_count": 15,
   "metadata": {},
   "outputs": [],
   "source": [
    "question = \"Where does the first patient diagnosed with COVID-19 come from?\""
   ]
  },
  {
   "cell_type": "code",
   "execution_count": 16,
   "metadata": {},
   "outputs": [],
   "source": [
    "vectorized_question = np.array(bc.encode([question]).flat)"
   ]
  },
  {
   "cell_type": "code",
   "execution_count": 17,
   "metadata": {},
   "outputs": [
    {
     "data": {
      "text/plain": [
       "(768,)"
      ]
     },
     "execution_count": 17,
     "metadata": {},
     "output_type": "execute_result"
    }
   ],
   "source": [
    "vectorized_question.shape"
   ]
  },
  {
   "cell_type": "code",
   "execution_count": 18,
   "metadata": {},
   "outputs": [],
   "source": [
    "vector_distance = paragraphs_df[\"bert_vector\"] \\\n",
    "    .map(lambda v: distance.cosine(vectorized_question, v))\n",
    "idx = vector_distance.nsmallest(n=5).index\n",
    "closest_paragraphs_df = paragraphs_df.loc[idx]"
   ]
  },
  {
   "cell_type": "code",
   "execution_count": 19,
   "metadata": {},
   "outputs": [
    {
     "data": {
      "text/html": [
       "<h4>1. Systematic Comparison of Two Animal-to-Human Transmitted Human Coronaviruses: SARS-CoV-2 and SARS-CoV</h4><p>What is the percentage of COVID-19 patients have been infected with SARS and produced antibodies?</p>"
      ],
      "text/plain": [
       "<IPython.core.display.HTML object>"
      ]
     },
     "metadata": {},
     "output_type": "display_data"
    },
    {
     "data": {
      "text/html": [
       "<h4>2. The outbreak of COVID-19: An overview</h4><p>The first confirmed nCoV case with Huanan seafood market exposure December 31</p>"
      ],
      "text/plain": [
       "<IPython.core.display.HTML object>"
      ]
     },
     "metadata": {},
     "output_type": "display_data"
    },
    {
     "data": {
      "text/html": [
       "<h4>3. The outbreak of COVID-19: An overview</h4><p>The first confirmed nCoV case with Huanan seafood market exposure December 31</p>"
      ],
      "text/plain": [
       "<IPython.core.display.HTML object>"
      ]
     },
     "metadata": {},
     "output_type": "display_data"
    },
    {
     "data": {
      "text/html": [
       "<h4>4. Article history: Early Epidemiological and Clinical Characteristics of 28 Cases of Coronavirus Disease in South Korea COVID-19 National Emergency Response Center, Epidemiology and Case Management Team, Korea Centers for Disease Control and Prevention*</h4><p>Regarding the course of disease development in the 28 patients with confirmed COVID-19 as of February 14 th , 6</p>"
      ],
      "text/plain": [
       "<IPython.core.display.HTML object>"
      ]
     },
     "metadata": {},
     "output_type": "display_data"
    },
    {
     "data": {
      "text/html": [
       "<h4>5. </h4><p>What do you expect this nCoV outbreak to be in the future?</p>"
      ],
      "text/plain": [
       "<IPython.core.display.HTML object>"
      ]
     },
     "metadata": {},
     "output_type": "display_data"
    }
   ],
   "source": [
    "closest_paragraphs_iter = closest_paragraphs_df[\"paragraph_text\"].iteritems()\n",
    "for i, ((paper_id, paragraph_order), paragraph_text) in enumerate(closest_paragraphs_iter):\n",
    "    try:\n",
    "        paper = covid_19_articles_df.loc[paper_id]\n",
    "        paper_title = paper[\"title\"]\n",
    "        display(HTML(f\"<h4>{i + 1}. {paper_title}</h4><p>{paragraph_text}</p>\"))\n",
    "    except KeyError as e:\n",
    "        logger.warning(\"Could not find the key %s\", paper_id)"
   ]
  },
  {
   "cell_type": "markdown",
   "metadata": {},
   "source": [
    "### Searching for similar sentences\n",
    "\n",
    "SciBERT struggles with questions in the same way like BERT did, so we can consider putting an affirmative sentence again."
   ]
  },
  {
   "cell_type": "code",
   "execution_count": 20,
   "metadata": {},
   "outputs": [],
   "source": [
    "from helper import display_most_similar_paragraphs"
   ]
  },
  {
   "cell_type": "code",
   "execution_count": 21,
   "metadata": {},
   "outputs": [],
   "source": [
    "sentence = \"The first patient diagnosed with COVID-19 comes from\""
   ]
  },
  {
   "cell_type": "code",
   "execution_count": 22,
   "metadata": {},
   "outputs": [
    {
     "data": {
      "text/html": [
       "<h4>1. The outbreak of COVID-19: An overview</h4><p>The first confirmed nCoV case with Huanan seafood market exposure December 31</p>"
      ],
      "text/plain": [
       "<IPython.core.display.HTML object>"
      ]
     },
     "metadata": {},
     "output_type": "display_data"
    },
    {
     "data": {
      "text/html": [
       "<h4>2. The outbreak of COVID-19: An overview</h4><p>The first confirmed nCoV case with Huanan seafood market exposure December 31</p>"
      ],
      "text/plain": [
       "<IPython.core.display.HTML object>"
      ]
     },
     "metadata": {},
     "output_type": "display_data"
    },
    {
     "data": {
      "text/html": [
       "<h4>3. Article history: Early Epidemiological and Clinical Characteristics of 28 Cases of Coronavirus Disease in South Korea COVID-19 National Emergency Response Center, Epidemiology and Case Management Team, Korea Centers for Disease Control and Prevention*</h4><p>Regarding the course of disease development in the 28 patients with confirmed COVID-19 as of February 14 th , 6</p>"
      ],
      "text/plain": [
       "<IPython.core.display.HTML object>"
      ]
     },
     "metadata": {},
     "output_type": "display_data"
    },
    {
     "data": {
      "text/html": [
       "<h4>4. Article history: Identification of Coronavirus Isolated from a Patient in Korea with COVID-19</h4><p>This study reports the full genome sequencing of SARS-CoV-2 isolated from putative the 2019 novel coronavirus disease </p>"
      ],
      "text/plain": [
       "<IPython.core.display.HTML object>"
      ]
     },
     "metadata": {},
     "output_type": "display_data"
    },
    {
     "data": {
      "text/html": [
       "<h4>5. Caution: The clinical characteristics of COVID-19 patients at admission are changing</h4><p>We report here the admission characteristics of 89 patients with confirmed COVID-19.</p>"
      ],
      "text/plain": [
       "<IPython.core.display.HTML object>"
      ]
     },
     "metadata": {},
     "output_type": "display_data"
    }
   ],
   "source": [
    "display_most_similar_paragraphs(sentence, paragraphs_df, covid_19_articles_df, bc)"
   ]
  },
  {
   "cell_type": "code",
   "execution_count": null,
   "metadata": {},
   "outputs": [],
   "source": []
  }
 ],
 "metadata": {
  "kernelspec": {
   "display_name": "Python 3",
   "language": "python",
   "name": "python3"
  },
  "language_info": {
   "codemirror_mode": {
    "name": "ipython",
    "version": 3
   },
   "file_extension": ".py",
   "mimetype": "text/x-python",
   "name": "python",
   "nbconvert_exporter": "python",
   "pygments_lexer": "ipython3",
   "version": "3.7.6"
  }
 },
 "nbformat": 4,
 "nbformat_minor": 4
}
